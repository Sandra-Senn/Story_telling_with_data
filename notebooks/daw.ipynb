{
 "cells": [
  {
   "cell_type": "code",
   "execution_count": 2,
   "metadata": {},
   "outputs": [],
   "source": [
    "import os\n",
    "import json\n",
    "import pandas as pd"
   ]
  },
  {
   "cell_type": "code",
   "execution_count": 3,
   "metadata": {},
   "outputs": [
    {
     "name": "stdout",
     "output_type": "stream",
     "text": [
      "Empty DataFrame\n",
      "Columns: []\n",
      "Index: []\n"
     ]
    }
   ],
   "source": [
    "def konsolidiere_seen_daten(ordner_pfad):\n",
    "    \"\"\"\n",
    "    Liest JSON-Dateien aus einem Ordner und erstellt einen konsolidierten DataFrame.\n",
    "\n",
    "    Args:\n",
    "        ordner_pfad (str): Pfad zum Ordner mit den JSON-Dateien.\n",
    "\n",
    "    Returns:\n",
    "        pandas.DataFrame: Konsolidierter DataFrame mit den Daten aus allen JSON-Dateien.\n",
    "    \"\"\"\n",
    "    data = []\n",
    "    for filename in os.listdir(ordner_pfad):\n",
    "        if filename.endswith(\".json\"):\n",
    "            file_path = os.path.join(ordner_pfad, filename)\n",
    "            with open(file_path, 'r') as f:\n",
    "                try:\n",
    "                    json_data = json.load(f)\n",
    "                    # Extrahiere relevante Daten\n",
    "                    yearly_data = json_data['yearly']\n",
    "                    for location, rcp_data in yearly_data.items():\n",
    "                        for rcp, values in rcp_data.items():\n",
    "                            years = values['x']\n",
    "                            y_ave = values['y_ave']\n",
    "                            y_min = values['y_min']\n",
    "                            y_max = values['y_max']\n",
    "\n",
    "                            # Erstelle eine Liste von Dictionaries für jedes Jahr\n",
    "                            for i in range(len(years)):\n",
    "                                data.append({\n",
    "                                    'See': filename.replace(\".json\", \"\"),  # Name der Datei als Seenname\n",
    "                                    'Location': location,\n",
    "                                    'RCP': rcp,\n",
    "                                    'Jahr': years[i],\n",
    "                                    'Durchschnitt': y_ave[i],\n",
    "                                    'Minimum': y_min[i],\n",
    "                                    'Maximum': y_max[i]\n",
    "                                })\n",
    "                except json.JSONDecodeError as e:\n",
    "                    print(f\"Fehler beim Lesen der JSON-Datei {filename}: {e}\")\n",
    "                except KeyError as e:\n",
    "                    print(f\"Fehler beim Zugriff auf Schlüssel in {filename}: {e}\")\n",
    "\n",
    "    # Erstelle den DataFrame\n",
    "    df = pd.DataFrame(data)\n",
    "    return df\n",
    "\n",
    "# Beispielaufruf\n",
    "ordner_pfad = \"../data/see_data\" \n",
    "konsolidierter_df = konsolidiere_seen_daten(ordner_pfad)\n",
    "print(konsolidierter_df)\n",
    "\n",
    "# Optional: Speichere den DataFrame als CSV-Datei/\n",
    "konsolidierter_df.to_csv(\"../data/see_daten.csv\", index=False)\n"
   ]
  },
  {
   "cell_type": "markdown",
   "metadata": {},
   "source": [
    "## See- Koordinaten korrigiert"
   ]
  },
  {
   "cell_type": "code",
   "execution_count": 6,
   "metadata": {},
   "outputs": [
    {
     "name": "stdout",
     "output_type": "stream",
     "text": [
      "             See  Latitude  Longitude\n",
      "10  Lower-Zurich   47.2500     8.6833\n",
      "27  Upper-Zurich   47.3667     8.6167\n"
     ]
    }
   ],
   "source": [
    "df = pd.read_csv(\"../data/see_lat_lon_final.csv\")\n",
    "print(df[df[\"See\"].str.contains(\"Zurich\", case=False)])\n"
   ]
  },
  {
   "cell_type": "code",
   "execution_count": 7,
   "metadata": {},
   "outputs": [],
   "source": [
    "df.loc[df[\"See\"] == \"Upper-Zurich\", \"Latitude\"] = 47.2667\n",
    "df.loc[df[\"See\"] == \"Upper-Zurich\", \"Longitude\"] = 8.6000\n",
    "\n",
    "df.loc[df[\"See\"] == \"Lower-Zurich\", \"Latitude\"] = 47.2667\n",
    "df.loc[df[\"See\"] == \"Lower-Zurich\", \"Longitude\"] = 8.6000"
   ]
  }
 ],
 "metadata": {
  "kernelspec": {
   "display_name": "Python 3",
   "language": "python",
   "name": "python3"
  },
  "language_info": {
   "codemirror_mode": {
    "name": "ipython",
    "version": 3
   },
   "file_extension": ".py",
   "mimetype": "text/x-python",
   "name": "python",
   "nbconvert_exporter": "python",
   "pygments_lexer": "ipython3",
   "version": "3.13.1"
  }
 },
 "nbformat": 4,
 "nbformat_minor": 2
}
